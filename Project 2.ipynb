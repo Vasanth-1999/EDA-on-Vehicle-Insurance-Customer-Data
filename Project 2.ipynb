{
 "cells": [
  {
   "cell_type": "code",
   "execution_count": 1,
   "metadata": {},
   "outputs": [],
   "source": [
    "# EDA on Vehicle Insurance Customer Data\n",
    "import pandas as pd\n",
    "import numpy as np\n",
    "\n",
    "# 1\n",
    "customer_details = pd.read_csv('./customer_details.csv')\n",
    "customer_policy = pd.read_csv('./customer_policy_details.csv')\n",
    "customer_details.columns = ['customer_id', 'Gender', 'age', 'driving licence present',\n",
    "                            'region code', 'previously insured', 'vehicle age', 'vehicle damage']\n",
    "customer_policy.columns = ['customer_id',\n",
    "                           'annual premium', 'sales channel code', 'vintage', 'response']"
   ]
  },
  {
   "cell_type": "code",
   "execution_count": 2,
   "metadata": {},
   "outputs": [
    {
     "data": {
      "text/plain": [
       "386"
      ]
     },
     "execution_count": 2,
     "metadata": {},
     "output_type": "execute_result"
    }
   ],
   "source": [
    "# 2\n",
    "# 2 i)\n",
    "customer_details['customer_id'].isnull().sum()"
   ]
  },
  {
   "cell_type": "code",
   "execution_count": 3,
   "metadata": {},
   "outputs": [
    {
     "data": {
      "text/plain": [
       "387"
      ]
     },
     "execution_count": 3,
     "metadata": {},
     "output_type": "execute_result"
    }
   ],
   "source": [
    "customer_policy['customer_id'].isnull().sum()"
   ]
  },
  {
   "cell_type": "code",
   "execution_count": 4,
   "metadata": {},
   "outputs": [
    {
     "data": {
      "text/plain": [
       "(380723, 380722)"
      ]
     },
     "execution_count": 4,
     "metadata": {},
     "output_type": "execute_result"
    }
   ],
   "source": [
    "customer_details['customer_id'].count(), customer_policy['customer_id'].count()"
   ]
  },
  {
   "cell_type": "code",
   "execution_count": 5,
   "metadata": {},
   "outputs": [],
   "source": [
    "# Because Jupyter notebook crashes or Its stops execution\n",
    "# Replace all null values for numeric columns by mean\n",
    "# customer_details.mean(), customer_policy.mean()"
   ]
  },
  {
   "cell_type": "code",
   "execution_count": 6,
   "metadata": {},
   "outputs": [],
   "source": [
    "# Because Jupyter notebook crashes or Its stops execution\n",
    "# Replace all null values for Categorical value by mode\n",
    "# customer_details.mode(), customer_policy.mode()"
   ]
  },
  {
   "cell_type": "code",
   "execution_count": 7,
   "metadata": {},
   "outputs": [
    {
     "name": "stdout",
     "output_type": "stream",
     "text": [
      "Outliers is : nan\n"
     ]
    },
    {
     "name": "stderr",
     "output_type": "stream",
     "text": [
      "C:\\Users\\vasan\\Anaconda3\\lib\\site-packages\\numpy\\lib\\function_base.py:3826: RuntimeWarning: Invalid value encountered in percentile\n",
      "  interpolation=interpolation)\n"
     ]
    }
   ],
   "source": [
    "# 2 ii)\n",
    "Q1 = np.percentile(customer_details['age'], 25)\n",
    "Q3 = np.percentile(customer_details['age'], 75)\n",
    "IQR = Q3 - Q1\n",
    "print(\"Outliers is :\", Q1 - 1.51 * IQR)"
   ]
  },
  {
   "cell_type": "code",
   "execution_count": 8,
   "metadata": {},
   "outputs": [],
   "source": [
    "# Because Jupyter notebook crashes or Its stops execution\n",
    "# iii) Remove white spaces\n",
    "# There is only strip in string so\n",
    "# customer_details['Gender'].str.strip()"
   ]
  },
  {
   "cell_type": "code",
   "execution_count": 11,
   "metadata": {},
   "outputs": [],
   "source": [
    "# Because Jupyter notebook crashes or Its stops execution\n",
    "# case correction(lower or upper, any one)\n",
    "# 2 iv) Only for string\n",
    "# customer_details['Gender'].str.title()"
   ]
  },
  {
   "cell_type": "code",
   "execution_count": 12,
   "metadata": {},
   "outputs": [],
   "source": [
    "# Because Jupyter notebook crashes or Its stops execution\n",
    "# Convert nominal data (categorical) into dummies for future modeling use if required\n",
    "# 2 v)\n",
    "# pd.get_dummies(customer_details)\n",
    "# pd.get_dummies(customer_policy)"
   ]
  },
  {
   "cell_type": "code",
   "execution_count": 18,
   "metadata": {},
   "outputs": [],
   "source": [
    "# Because Jupyter notebook crashes or Its stops execution\n",
    "# Drop Duplicates (duplicated rows)\n",
    "# 2 vi)\n",
    "# customer_details.drop_duplicates(), customer_policy.drop_duplicates()"
   ]
  },
  {
   "cell_type": "code",
   "execution_count": 19,
   "metadata": {},
   "outputs": [],
   "source": [
    "# Because Jupyter notebook crashes or Its stops execution\n",
    "# 3 Create a Master table for future use. Join the customer table and customer_policy table to get a master table using customer_id in both tables\n",
    "merge = pd.merge(customer_details, customer_policy, on='customer_id')\n",
    "# merge"
   ]
  },
  {
   "cell_type": "code",
   "execution_count": 16,
   "metadata": {},
   "outputs": [
    {
     "data": {
      "text/plain": [
       "Gender\n",
       "Female    30428.957317\n",
       "Male      30524.187601\n",
       "Name: annual premium, dtype: float64"
      ]
     },
     "execution_count": 16,
     "metadata": {},
     "output_type": "execute_result"
    }
   ],
   "source": [
    "# 4\n",
    "# i. Gender wise average annual premium\n",
    "merge.groupby(['Gender']).mean()['annual premium']"
   ]
  },
  {
   "cell_type": "code",
   "execution_count": 27,
   "metadata": {},
   "outputs": [
    {
     "data": {
      "text/plain": [
       "age\n",
       "20.0    27712.686993\n",
       "21.0    30476.352964\n",
       "22.0    30634.618240\n",
       "23.0    30594.933265\n",
       "24.0    30894.910868\n",
       "            ...     \n",
       "81.0    31201.571429\n",
       "82.0    37705.379310\n",
       "83.0    31012.727273\n",
       "84.0    35440.818182\n",
       "85.0    29792.363636\n",
       "Name: annual premium, Length: 66, dtype: float64"
      ]
     },
     "execution_count": 27,
     "metadata": {},
     "output_type": "execute_result"
    }
   ],
   "source": [
    "# ii. Age wise average annual premium\n",
    "merge.groupby(['age']).mean()['annual premium']"
   ]
  },
  {
   "cell_type": "code",
   "execution_count": 25,
   "metadata": {},
   "outputs": [
    {
     "data": {
      "text/html": [
       "<div>\n",
       "<style scoped>\n",
       "    .dataframe tbody tr th:only-of-type {\n",
       "        vertical-align: middle;\n",
       "    }\n",
       "\n",
       "    .dataframe tbody tr th {\n",
       "        vertical-align: top;\n",
       "    }\n",
       "\n",
       "    .dataframe thead th {\n",
       "        text-align: right;\n",
       "    }\n",
       "</style>\n",
       "<table border=\"1\" class=\"dataframe\">\n",
       "  <thead>\n",
       "    <tr style=\"text-align: right;\">\n",
       "      <th></th>\n",
       "      <th>customer_id</th>\n",
       "      <th>age</th>\n",
       "      <th>driving licence present</th>\n",
       "      <th>region code</th>\n",
       "      <th>previously insured</th>\n",
       "      <th>vehicle age</th>\n",
       "      <th>vehicle damage</th>\n",
       "      <th>annual premium</th>\n",
       "      <th>sales channel code</th>\n",
       "      <th>vintage</th>\n",
       "      <th>response</th>\n",
       "    </tr>\n",
       "    <tr>\n",
       "      <th>Gender</th>\n",
       "      <th></th>\n",
       "      <th></th>\n",
       "      <th></th>\n",
       "      <th></th>\n",
       "      <th></th>\n",
       "      <th></th>\n",
       "      <th></th>\n",
       "      <th></th>\n",
       "      <th></th>\n",
       "      <th></th>\n",
       "      <th></th>\n",
       "    </tr>\n",
       "  </thead>\n",
       "  <tbody>\n",
       "    <tr>\n",
       "      <td>Female</td>\n",
       "      <td>174485</td>\n",
       "      <td>242831</td>\n",
       "      <td>242418</td>\n",
       "      <td>242829</td>\n",
       "      <td>242820</td>\n",
       "      <td>242808</td>\n",
       "      <td>242799</td>\n",
       "      <td>242463</td>\n",
       "      <td>242783</td>\n",
       "      <td>242803</td>\n",
       "      <td>242828</td>\n",
       "    </tr>\n",
       "    <tr>\n",
       "      <td>Male</td>\n",
       "      <td>205484</td>\n",
       "      <td>285381</td>\n",
       "      <td>286155</td>\n",
       "      <td>285746</td>\n",
       "      <td>286150</td>\n",
       "      <td>286162</td>\n",
       "      <td>285762</td>\n",
       "      <td>285772</td>\n",
       "      <td>286171</td>\n",
       "      <td>286160</td>\n",
       "      <td>286164</td>\n",
       "    </tr>\n",
       "  </tbody>\n",
       "</table>\n",
       "</div>"
      ],
      "text/plain": [
       "        customer_id     age  driving licence present  region code  \\\n",
       "Gender                                                              \n",
       "Female       174485  242831                   242418       242829   \n",
       "Male         205484  285381                   286155       285746   \n",
       "\n",
       "        previously insured  vehicle age  vehicle damage  annual premium  \\\n",
       "Gender                                                                    \n",
       "Female              242820       242808          242799          242463   \n",
       "Male                286150       286162          285762          285772   \n",
       "\n",
       "        sales channel code  vintage  response  \n",
       "Gender                                         \n",
       "Female              242783   242803    242828  \n",
       "Male                286171   286160    286164  "
      ]
     },
     "execution_count": 25,
     "metadata": {},
     "output_type": "execute_result"
    }
   ],
   "source": [
    "# iii. Is your data balanced between the genders?\n",
    "merge.groupby(['Gender']).count()"
   ]
  },
  {
   "cell_type": "code",
   "execution_count": 22,
   "metadata": {},
   "outputs": [
    {
     "data": {
      "text/plain": [
       "vehicle age\n",
       "1-2 Year     30450.749064\n",
       "< 1 Year     30158.258709\n",
       "> 2 Years    34157.924024\n",
       "Name: annual premium, dtype: float64"
      ]
     },
     "execution_count": 22,
     "metadata": {},
     "output_type": "execute_result"
    }
   ],
   "source": [
    "# iv. Vehicle age wise average annual premium\n",
    "merge.groupby(['vehicle age']).mean()['annual premium']"
   ]
  },
  {
   "cell_type": "code",
   "execution_count": 23,
   "metadata": {},
   "outputs": [
    {
     "name": "stdout",
     "output_type": "stream",
     "text": [
      "Correlation coefficient is : 0.0471630773122804 So its is 'There is No Relationship'\n"
     ]
    }
   ],
   "source": [
    "# 5. Is there any relation between Person Age and annual premium?\n",
    "print(\"Correlation coefficient is :\", merge['age'].corr(\n",
    "    merge['annual premium']), \"So its is 'There is No Relationship'\")"
   ]
  },
  {
   "cell_type": "code",
   "execution_count": null,
   "metadata": {},
   "outputs": [],
   "source": []
  }
 ],
 "metadata": {
  "kernelspec": {
   "display_name": "Python 3",
   "language": "python",
   "name": "python3"
  },
  "language_info": {
   "codemirror_mode": {
    "name": "ipython",
    "version": 3
   },
   "file_extension": ".py",
   "mimetype": "text/x-python",
   "name": "python",
   "nbconvert_exporter": "python",
   "pygments_lexer": "ipython3",
   "version": "3.7.4"
  }
 },
 "nbformat": 4,
 "nbformat_minor": 2
}
